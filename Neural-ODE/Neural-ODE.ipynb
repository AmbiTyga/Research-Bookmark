{
 "cells": [
  {
   "cell_type": "code",
   "execution_count": 1,
   "metadata": {},
   "outputs": [
    {
     "name": "stdout",
     "output_type": "stream",
     "text": [
      "Cuda Available?   True\n"
     ]
    }
   ],
   "source": [
    "import numpy as np\n",
    "import torch\n",
    "from torch import Tensor\n",
    "import torch.nn as nn\n",
    "import torch.nn.functional as F\n",
    "from torch.autograd import Variable\n",
    "\n",
    "use_cuda = torch.cuda.is_available()\n",
    "print(\"Cuda Available?  \", use_cuda)\n"
   ]
  },
  {
   "cell_type": "code",
   "execution_count": 2,
   "metadata": {},
   "outputs": [],
   "source": [
    "from tqdm.auto import tqdm\n",
    "import matplotlib.pyplot as plt\n",
    "import matplotlib as mpl\n",
    "import seaborn as sns"
   ]
  },
  {
   "cell_type": "code",
   "execution_count": 3,
   "metadata": {},
   "outputs": [],
   "source": [
    "import math"
   ]
  },
  {
   "cell_type": "code",
   "execution_count": 4,
   "metadata": {},
   "outputs": [],
   "source": [
    "def ode_solver(z0, t0, t1, f):\n",
    "    \"\"\"\n",
    "    Simplest Euler ODE Solver\n",
    "    z0: value at intial state\n",
    "    t0: intial state\n",
    "    t1: final state to be calculated\n",
    "    f: derivatve of a function with paramters z and p(aka parameter) with respect to t i.e f=dz/dt\n",
    "    \"\"\"\n",
    "    h_max = .05 # Random Smallest Possible difference \n",
    "    n_steps = math.ceil((abs(t1-t0)/h_max).max().item()) # Based on distance between t1 and t0, number of steps to be taken with step length of h_max\n",
    "\n",
    "    h = (t1 - t0)/n_steps # Approximated Smallest Possible Difference\n",
    "    t = t0\n",
    "    z = z0\n",
    "\n",
    "    for _ in range(n_steps):\n",
    "        z = z + h*f(z, t) # Euler Method: z_1 = z_0 + h*f(z, t)\n",
    "        t = t + h # Updating t0 to reach t1 with step size of h\n",
    "    \n",
    "    # When we reach t1 from t0, its possible an ODE solver also makes the z0 to reach z1(the output)\n",
    "    return z"
   ]
  },
  {
   "cell_type": "code",
   "execution_count": null,
   "metadata": {},
   "outputs": [],
   "source": [
    "class BaseODESolver(nn.Module):\n",
    "    \"\"\"\n",
    "    Base Class for Parameters based ODE Solver\n",
    "    \"\"\"\n",
    "\n",
    "    def forward_with_grad(self, z, t, grad_ouptuts):\n",
    "        \"\"\"\n",
    "        A custome method(not a method of nn.Module)\n",
    "        Helps with calculation of coefficients required for reverse-mode automatic differentiation\n",
    "        This will calculate the following:\n",
    "        - Adjoint Sensitivity `a`\n",
    "        - Vector field: df/dz\n",
    "        - Rate of change of output with change in parameters: df/dp\n",
    "        - \n",
    "        \"\"\""
   ]
  }
 ],
 "metadata": {
  "kernelspec": {
   "display_name": "ambi",
   "language": "python",
   "name": "python3"
  },
  "language_info": {
   "codemirror_mode": {
    "name": "ipython",
    "version": 3
   },
   "file_extension": ".py",
   "mimetype": "text/x-python",
   "name": "python",
   "nbconvert_exporter": "python",
   "pygments_lexer": "ipython3",
   "version": "3.11.10"
  }
 },
 "nbformat": 4,
 "nbformat_minor": 2
}
