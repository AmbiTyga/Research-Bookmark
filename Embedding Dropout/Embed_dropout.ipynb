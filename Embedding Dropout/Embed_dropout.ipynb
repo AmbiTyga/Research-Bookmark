{
 "cells": [
  {
   "cell_type": "code",
   "execution_count": 1,
   "id": "141a0bda",
   "metadata": {},
   "outputs": [],
   "source": [
    "from module import EmbeddingLayerWithDropout\n",
    "import torch"
   ]
  },
  {
   "cell_type": "code",
   "execution_count": 2,
   "id": "71077b60",
   "metadata": {},
   "outputs": [],
   "source": [
    "V = 50\n",
    "h = 4\n",
    "dropout = 0.1\n",
    "layer = EmbeddingLayerWithDropout(\n",
    "    num_embeddings = V,\n",
    "    embedding_dim=h,\n",
    "    dropout = dropout,\n",
    "    padding_idx =  0\n",
    ")\n",
    "\n",
    "bptt = 10\n",
    "batch_size = 2\n",
    "\n",
    "words = torch.randint(low = 0, high=V-1, size=(batch_size, bptt), requires_grad=False)"
   ]
  },
  {
   "cell_type": "code",
   "execution_count": 3,
   "id": "7fe5d36a",
   "metadata": {},
   "outputs": [],
   "source": [
    "emebds = layer(words)"
   ]
  },
  {
   "cell_type": "code",
   "execution_count": 4,
   "id": "0748a57f",
   "metadata": {},
   "outputs": [
    {
     "data": {
      "text/plain": [
       "torch.Size([2, 10, 4])"
      ]
     },
     "execution_count": 4,
     "metadata": {},
     "output_type": "execute_result"
    }
   ],
   "source": [
    "emebds.size()"
   ]
  },
  {
   "cell_type": "code",
   "execution_count": 5,
   "id": "5927653e",
   "metadata": {},
   "outputs": [
    {
     "data": {
      "text/plain": [
       "tensor([[[ 0.0000, -0.8993, -0.1551,  1.5098],\n",
       "         [-0.5335,  0.9088, -0.1130,  0.0000],\n",
       "         [-0.7276,  0.4627, -0.6563, -0.4163],\n",
       "         [-0.5335,  0.9088, -0.1130,  0.0000],\n",
       "         [ 0.0000,  0.6447,  0.4310,  0.3879],\n",
       "         [-0.4151,  0.9613,  0.5231,  1.7318],\n",
       "         [-0.2626, -1.5830, -2.0823, -0.0000],\n",
       "         [ 1.5191,  1.6755,  0.9746,  0.9654],\n",
       "         [-0.2626, -1.5830, -2.0823, -0.0000],\n",
       "         [ 0.2709, -0.9643, -0.3547,  0.2912]],\n",
       "\n",
       "        [[ 1.3211, -0.3216, -0.0000, -0.3763],\n",
       "         [ 1.5191,  1.6755,  0.9746,  0.9654],\n",
       "         [ 2.2516, -0.0000,  0.4481,  0.2546],\n",
       "         [ 2.1862, -0.5346, -0.9369, -0.7895],\n",
       "         [-1.5118,  1.2065,  0.0636, -0.3353],\n",
       "         [ 0.1147,  1.0890,  2.1891,  0.2072],\n",
       "         [ 1.5994,  0.9411, -0.4040,  0.2655],\n",
       "         [-0.0000, -1.0154, -2.0204, -0.4478],\n",
       "         [ 1.9651,  0.3606, -1.0094,  1.4550],\n",
       "         [-0.5357, -0.3500,  0.1488, -1.1359]]], grad_fn=<EmbeddingBackward0>)"
      ]
     },
     "execution_count": 5,
     "metadata": {},
     "output_type": "execute_result"
    }
   ],
   "source": [
    "emebds"
   ]
  },
  {
   "cell_type": "code",
   "execution_count": 6,
   "id": "b8263b48",
   "metadata": {},
   "outputs": [
    {
     "data": {
      "text/plain": [
       "tensor([[ 0.4554,  0.2623, -1.3375,  0.2623,  1.4636,  2.8012, -3.9280,  5.1347,\n",
       "         -3.9280, -0.7569],\n",
       "        [ 0.6231,  5.1347,  2.9542, -0.0747, -0.5770,  3.5999,  2.4020, -3.4837,\n",
       "          2.7712, -1.8727]], grad_fn=<SumBackward1>)"
      ]
     },
     "execution_count": 6,
     "metadata": {},
     "output_type": "execute_result"
    }
   ],
   "source": [
    "emebds.sum(dim=2)"
   ]
  },
  {
   "cell_type": "code",
   "execution_count": null,
   "id": "349bcacb",
   "metadata": {},
   "outputs": [],
   "source": []
  }
 ],
 "metadata": {
  "kernelspec": {
   "display_name": "ambi",
   "language": "python",
   "name": "python3"
  },
  "language_info": {
   "codemirror_mode": {
    "name": "ipython",
    "version": 3
   },
   "file_extension": ".py",
   "mimetype": "text/x-python",
   "name": "python",
   "nbconvert_exporter": "python",
   "pygments_lexer": "ipython3",
   "version": "3.12.9"
  }
 },
 "nbformat": 4,
 "nbformat_minor": 5
}
