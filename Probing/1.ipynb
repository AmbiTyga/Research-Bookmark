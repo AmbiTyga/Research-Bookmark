{
 "cells": [
  {
   "cell_type": "code",
   "execution_count": null,
   "id": "f8af9908",
   "metadata": {},
   "outputs": [],
   "source": [
    "import sqlite3\n",
    "\n",
    "conn = sqlite3.connect('ontonotes.db')\n",
    "cursor = conn.cursor()\n",
    "\n",
    "with open('ontonotes-release-5.0/data/database/ontonotes-v5.0.sql', 'r', encoding='utf-8') as f:\n",
    "    statement = ''\n",
    "    for line in f:\n",
    "        # Skip comments and empty lines\n",
    "        if line.strip().startswith('--') or not line.strip():\n",
    "            continue\n",
    "        statement += line\n",
    "        # Check for statement delimiter\n",
    "        if line.strip().endswith(';'):\n",
    "            try:\n",
    "                cursor.execute(statement)\n",
    "            except Exception as e:\n",
    "                print(f\"Error executing statement: {e}\\nStatement: {statement}\")\n",
    "            statement = ''"
   ]
  },
  {
   "cell_type": "code",
   "execution_count": null,
   "id": "f1f4e221",
   "metadata": {},
   "outputs": [],
   "source": [
    "\n",
    "conn.commit()\n",
    "conn.close()\n"
   ]
  }
 ],
 "metadata": {
  "kernelspec": {
   "display_name": "ambi",
   "language": "python",
   "name": "python3"
  },
  "language_info": {
   "codemirror_mode": {
    "name": "ipython",
    "version": 3
   },
   "file_extension": ".py",
   "mimetype": "text/x-python",
   "name": "python",
   "nbconvert_exporter": "python",
   "pygments_lexer": "ipython3",
   "version": "3.12.9"
  }
 },
 "nbformat": 4,
 "nbformat_minor": 5
}
