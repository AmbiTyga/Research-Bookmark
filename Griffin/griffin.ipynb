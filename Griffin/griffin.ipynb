{
 "cells": [
  {
   "cell_type": "markdown",
   "id": "036c20e0",
   "metadata": {},
   "source": [
    "# Griffin: Mixing Gated Linear Recurrences with Local Attention for Efficient Language Models\n",
    "\n",
    "[arXiv](https://arxiv.org/abs/2402.19427)\n",
    "\n",
    "## Model Architecture\n",
    "All our models contain the following components: \n",
    "- (i) a residual block\n",
    "- (ii) an MLP block\n",
    "- (iii) a temporal-mixing block. \n",
    "\n",
    "While (i) and (ii) are the same across all models, we consider three temporal mixing blocks: global Multi-Query Attention (MQA), local (sliding-window) MQA and our proposed recurrent block. As part of the recurrent block we use the Real-Gated Linear Recurrent Unit (RG-LRU) – a novel recurrent layer inspired by the Linear Recurrent Unit [Orvieto et al., 2023b](https://arxiv.org/abs/2303.06349).\n",
    "\n",
    "The residual block, as shown in Figure 2(a), defines the global structure of our models and is inspired by pre-norm Transformers (Xiong et al., 2020). After embedding the input sequence we pass it through $N$ such blocks ($N$ denoting the model depth), and then we apply RMSNorm [Zhang and Sennrich, 2019](https://arxiv.org/abs/1910.07467) to produce the final activations. To compute the token probabilities we apply a final linear layer followed by a softmax. The weights of this layer are shared with the input embedding layer."
   ]
  },
  {
   "cell_type": "markdown",
   "id": "f1fabc13",
   "metadata": {
    "vscode": {
     "languageId": "plaintext"
    }
   },
   "source": [
    "## Residual block\n",
    "\n",
    "![Griffin](https://arxiv.org/html/2402.19427v1/x3.png)\n",
    "\n",
    "Figure 2: a) The main backbone of our mode architecture is the residual block, which is stacked $N$ times. b) The gated MLP block that we use. c) The recurrent block that we propose as an alternative to Multi Query Attention (MQA). It uses our proposed RG-LRU layer, defined in Section 2.4.\n",
    "\n",
    "The residual block contains two components, applied in order. The first component takes the hidden state $\\chi$ and applies an RMSNorm [Zhang and Sennrich, 2019](https://arxiv.org/abs/1910.07467), followed by the temporal-mixing block. We then merge the output with a skip connection from $\\chi$ through addition. Similarly, the second component applies RMSNorm, followed by the MLP block and then merges its output with a skip connection from the input of the RMSNorm. This block is illustrated in Figure 2 (a)."
   ]
  },
  {
   "cell_type": "code",
   "execution_count": 1,
   "id": "6e13e5e6",
   "metadata": {},
   "outputs": [],
   "source": [
    "import torch\n",
    "from torch import Tensor\n",
    "import torch.nn as nn\n",
    "import torch.nn.functional as F\n",
    "import numpy as np\n",
    "from torch.nn import Embedding"
   ]
  },
  {
   "cell_type": "markdown",
   "id": "a33ecbad",
   "metadata": {},
   "source": [
    "## Gated MLP Block\n",
    "\n",
    "![GatedMLP](https://github.com/AmbiTyga/Research-Bookmark/blob/main/Griffin/Gated%20MLP.png?raw=true)"
   ]
  },
  {
   "cell_type": "code",
   "execution_count": 2,
   "id": "2ab385ff",
   "metadata": {},
   "outputs": [],
   "source": [
    "class GatedMLPBlock(nn.Module):\n",
    "    def __init__(self, input_dim, hidden_dim):\n",
    "        super(GatedMLPBlock, self).__init__()\n",
    "\n",
    "        self.linearA = nn.Linear(\n",
    "            input_dim, hidden_dim,\n",
    "            bias=False\n",
    "        )\n",
    "        self.linearB = nn.Linear(\n",
    "            input_dim, hidden_dim,\n",
    "            bias=False\n",
    "        )\n",
    "\n",
    "        self.linearCombined = nn.Linear(\n",
    "            hidden_dim, input_dim,\n",
    "            bias=False\n",
    "        )\n",
    "\n",
    "    def forward(self, x):\n",
    "        outputA = torch.sigmoid(\n",
    "            self.linearA(x)\n",
    "        )\n",
    "        gelu_out = F.gelu(outputA)\n",
    "        outputB = self.linearB(x)\n",
    "        combined = gelu_out * outputB\n",
    "        outputCombined = self.linearCombined(combined)\n",
    "        return outputCombined\n",
    "    "
   ]
  }
 ],
 "metadata": {
  "kernelspec": {
   "display_name": "base",
   "language": "python",
   "name": "python3"
  },
  "language_info": {
   "codemirror_mode": {
    "name": "ipython",
    "version": 3
   },
   "file_extension": ".py",
   "mimetype": "text/x-python",
   "name": "python",
   "nbconvert_exporter": "python",
   "pygments_lexer": "ipython3",
   "version": "3.12.7"
  }
 },
 "nbformat": 4,
 "nbformat_minor": 5
}
